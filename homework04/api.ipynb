{
 "cells": [
  {
   "cell_type": "code",
   "execution_count": 1,
   "metadata": {},
   "outputs": [],
   "source": [
    "from vt import VT\n",
    "vt = VT()"
   ]
  },
  {
   "cell_type": "code",
   "execution_count": 2,
   "metadata": {},
   "outputs": [
    {
     "data": {
      "text/plain": [
       "'6aaadc1e36215adbe9cb5f3b6434f6b84903ab6099ae66ed109bddac39dc2e73'"
      ]
     },
     "execution_count": 2,
     "metadata": {},
     "output_type": "execute_result"
    }
   ],
   "source": [
    "vt.setkey('6aaadc1e36215adbe9cb5f3b6434f6b84903ab6099ae66ed109bddac39dc2e73')\n",
    "vt.getkey()"
   ]
  },
  {
   "cell_type": "code",
   "execution_count": 6,
   "metadata": {},
   "outputs": [
    {
     "data": {
      "text/plain": [
       "{'permalink': 'https://www.virustotal.com/gui/url/e12f5f6ca7e5f8a0c0ef190a2631b8cecddb69385a37766046a325a5cf982f2b/detection/u-e12f5f6ca7e5f8a0c0ef190a2631b8cecddb69385a37766046a325a5cf982f2b-1728812944',\n",
       " 'resource': 'https://ya.ru/',\n",
       " 'response_code': 1,\n",
       " 'scan_date': '2024-10-13 09:49:04',\n",
       " 'scan_id': 'e12f5f6ca7e5f8a0c0ef190a2631b8cecddb69385a37766046a325a5cf982f2b-1728812944',\n",
       " 'url': 'https://ya.ru/',\n",
       " 'verbose_msg': 'Scan request successfully queued, come back later for the report'}"
      ]
     },
     "execution_count": 6,
     "metadata": {},
     "output_type": "execute_result"
    }
   ],
   "source": [
    "vt.scanurl('https://ya.ru')\n",
    "# vt.out('print')"
   ]
  }
 ],
 "metadata": {
  "kernelspec": {
   "display_name": "Python 3",
   "language": "python",
   "name": "python3"
  },
  "language_info": {
   "codemirror_mode": {
    "name": "ipython",
    "version": 3
   },
   "file_extension": ".py",
   "mimetype": "text/x-python",
   "name": "python",
   "nbconvert_exporter": "python",
   "pygments_lexer": "ipython3",
   "version": "3.11.4"
  }
 },
 "nbformat": 4,
 "nbformat_minor": 2
}
